{
 "cells": [
  {
   "cell_type": "code",
   "execution_count": 22,
   "metadata": {
    "collapsed": false
   },
   "outputs": [],
   "source": [
    "import numpy as np\n",
    "import sqlite3\n",
    "\n",
    "conn = sqlite3.connect( 'comp3208_train.db' )"
   ]
  },
  {
   "cell_type": "code",
   "execution_count": 23,
   "metadata": {
    "collapsed": false
   },
   "outputs": [],
   "source": [
    "# collect an array of all users\n",
    "def get_users():\n",
    "    c = conn.cursor()\n",
    "    c.execute(\"SELECT DISTINCT UserID FROM example_table\")\n",
    "    users = c.fetchall()\n",
    "    users = [x[0] for x in users]\n",
    "    return users\n",
    "\n",
    "userList = get_users()\n",
    "\n",
    "# collect an array of all items\n",
    "def get_items():\n",
    "    c = conn.cursor()\n",
    "    c.execute(\"SELECT DISTINCT ItemID FROM example_table\")\n",
    "    items = c.fetchall()\n",
    "    items = [x[0] for x in items]\n",
    "    items.sort()\n",
    "    return items\n",
    "\n",
    "itemList = get_items()\n",
    "\n",
    "# Creating R matrix\n",
    "ratings_matrix = np.full((len(userList), len(itemList)), 0.0)\n",
    "\n",
    "c = conn.cursor()\n",
    "c.execute(\"SELECT UserId, ItemId, Rating FROM example_table\")\n",
    "ratings_tuple = c.fetchall()\n",
    "for tuple in ratings_tuple:\n",
    "    ratings_matrix[userList.index(tuple[0])][itemList.index(tuple[1])] = tuple[2]"
   ]
  },
  {
   "cell_type": "code",
   "execution_count": 24,
   "metadata": {
    "collapsed": false
   },
   "outputs": [
    {
     "name": "stdout",
     "output_type": "stream",
     "text": [
      "Sparsity: 5.75%\n"
     ]
    }
   ],
   "source": [
    "sparsity = float(len(ratings_matrix.nonzero()[0]))\n",
    "sparsity /= (ratings_matrix.shape[0] * ratings_matrix.shape[1])\n",
    "sparsity *= 100\n",
    "print ('Sparsity: {:4.2f}%'.format(sparsity))"
   ]
  },
  {
   "cell_type": "code",
   "execution_count": 25,
   "metadata": {
    "collapsed": true
   },
   "outputs": [],
   "source": [
    "def train_test_split(ratings):\n",
    "    test = np.zeros(ratings.shape)\n",
    "    train = ratings.copy()\n",
    "    for user in range(ratings.shape[0]):\n",
    "        test_ratings = np.random.choice(ratings[user, :].nonzero()[0], \n",
    "                                        size=10, \n",
    "                                        replace=False)\n",
    "        train[user, test_ratings] = 0.\n",
    "        test[user, test_ratings] = ratings[user, test_ratings]\n",
    "        \n",
    "    # Test and training are truly disjoint\n",
    "    assert(np.all((train * test) == 0)) \n",
    "    return train, test"
   ]
  },
  {
   "cell_type": "code",
   "execution_count": 26,
   "metadata": {
    "collapsed": false
   },
   "outputs": [],
   "source": [
    "train, test = train_test_split(ratings_matrix)"
   ]
  },
  {
   "cell_type": "code",
   "execution_count": 27,
   "metadata": {},
   "outputs": [
    {
     "name": "stdout",
     "output_type": "stream",
     "text": [
      "Iteration: 1\n",
      "Train mse: 1.142256694553786\n",
      "Test mse: 1.1919919781370554\n"
     ]
    }
   ],
   "source": [
    "from better_model import ExplicitMF\n",
    "\n",
    "MF_SGD = ExplicitMF(train, 40, learning='sgd', verbose=True)\n",
    "iter_array = [1, 2, 5, 10, 25, 50, 100, 200]\n",
    "MF_SGD.calculate_learning_curve(iter_array, test, learning_rate=0.001)"
   ]
  }
 ],
 "metadata": {
  "kernelspec": {
   "display_name": "Recommender-System-3208",
   "language": "python",
   "name": "python3"
  },
  "language_info": {
   "codemirror_mode": {
    "name": "ipython",
    "version": 3
   },
   "file_extension": ".py",
   "mimetype": "text/x-python",
   "name": "python",
   "nbconvert_exporter": "python",
   "pygments_lexer": "ipython3",
   "version": "3.9.12"
  }
 },
 "nbformat": 4,
 "nbformat_minor": 0
}
